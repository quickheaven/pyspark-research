{
 "cells": [
  {
   "cell_type": "code",
   "execution_count": 1,
   "id": "aa510bb3-d3a4-4079-9fdd-bb3a44ed678d",
   "metadata": {},
   "outputs": [],
   "source": [
    "# Import SparkSession\n",
    "from pyspark.sql import SparkSession"
   ]
  },
  {
   "cell_type": "code",
   "execution_count": 2,
   "id": "cd8f6e5d-762f-4994-acf1-f55d900b910d",
   "metadata": {},
   "outputs": [],
   "source": [
    "# Create SparkSession\n",
    "spark = SparkSession.builder.master('local[1]').appName('Pyspark_Primer').getOrCreate()"
   ]
  },
  {
   "cell_type": "code",
   "execution_count": 4,
   "id": "fffcdf50-bc5f-4873-98df-a213d4e5c0e5",
   "metadata": {},
   "outputs": [
    {
     "data": {
      "text/plain": [
       "1000001"
      ]
     },
     "execution_count": 4,
     "metadata": {},
     "output_type": "execute_result"
    }
   ],
   "source": [
    "nums = list(range(0, 1000001))\n",
    "len(nums)"
   ]
  },
  {
   "cell_type": "code",
   "execution_count": 11,
   "id": "b9e178b8-38c7-4c0e-ba70-81946daf6b0c",
   "metadata": {},
   "outputs": [
    {
     "data": {
      "text/plain": [
       "ParallelCollectionRDD[2] at readRDDFromFile at PythonRDD.scala:247"
      ]
     },
     "execution_count": 11,
     "metadata": {},
     "output_type": "execute_result"
    }
   ],
   "source": [
    "nums_rdd = spark.sparkContext.parallelize(nums)\n",
    "nums_rdd"
   ]
  },
  {
   "cell_type": "code",
   "execution_count": 12,
   "id": "8a5e9249-8696-4c1a-80d4-2bed843faa57",
   "metadata": {},
   "outputs": [
    {
     "data": {
      "text/plain": [
       "[0, 1, 2, 3, 4]"
      ]
     },
     "execution_count": 12,
     "metadata": {},
     "output_type": "execute_result"
    }
   ],
   "source": [
    "nums_rdd.take(5)"
   ]
  },
  {
   "cell_type": "code",
   "execution_count": 13,
   "id": "98888a83-2755-4a5b-a46a-c8e46f211abc",
   "metadata": {},
   "outputs": [
    {
     "data": {
      "text/plain": [
       "[0, 1, 4, 9, 16]"
      ]
     },
     "execution_count": 13,
     "metadata": {},
     "output_type": "execute_result"
    }
   ],
   "source": [
    "# square each elements\n",
    "squared_nums_rdd = nums_rdd.map(lambda x: x ** 2)\n",
    "squared_nums_rdd.take(5)"
   ]
  },
  {
   "cell_type": "code",
   "execution_count": 14,
   "id": "b32fc3e5-6c0a-46e8-bac6-3d08c6b8d5ee",
   "metadata": {},
   "outputs": [
    {
     "data": {
      "text/plain": [
       "[(0, 1),\n",
       " (1, 1),\n",
       " (4, 1),\n",
       " (9, 1),\n",
       " (16, 2),\n",
       " (25, 2),\n",
       " (36, 2),\n",
       " (49, 2),\n",
       " (64, 2),\n",
       " (81, 2),\n",
       " (100, 3),\n",
       " (121, 3),\n",
       " (144, 3),\n",
       " (169, 3),\n",
       " (196, 3),\n",
       " (225, 3),\n",
       " (256, 3),\n",
       " (289, 3),\n",
       " (324, 3),\n",
       " (361, 3),\n",
       " (400, 3),\n",
       " (441, 3),\n",
       " (484, 3),\n",
       " (529, 3),\n",
       " (576, 3)]"
      ]
     },
     "execution_count": 14,
     "metadata": {},
     "output_type": "execute_result"
    }
   ],
   "source": [
    "pairs = squared_nums_rdd.map(lambda x: (x, len(str(x))))\n",
    "pairs.take(25)"
   ]
  },
  {
   "cell_type": "code",
   "execution_count": 17,
   "id": "6fa34038-d312-4377-9ec5-ce038081c2a9",
   "metadata": {},
   "outputs": [
    {
     "data": {
      "text/plain": [
       "[(16, 2),\n",
       " (25, 2),\n",
       " (36, 2),\n",
       " (49, 2),\n",
       " (64, 2),\n",
       " (81, 2),\n",
       " (1024, 4),\n",
       " (1089, 4),\n",
       " (1156, 4),\n",
       " (1225, 4),\n",
       " (1296, 4),\n",
       " (1369, 4),\n",
       " (1444, 4),\n",
       " (1521, 4),\n",
       " (1600, 4),\n",
       " (1681, 4),\n",
       " (1764, 4),\n",
       " (1849, 4),\n",
       " (1936, 4),\n",
       " (2025, 4),\n",
       " (2116, 4),\n",
       " (2209, 4),\n",
       " (2304, 4),\n",
       " (2401, 4),\n",
       " (2500, 4)]"
      ]
     },
     "execution_count": 17,
     "metadata": {},
     "output_type": "execute_result"
    }
   ],
   "source": [
    "even_digit_pairs = pairs.filter(lambda x: (x[1] % 2) == 0)\n",
    "even_digit_pairs.take(25)"
   ]
  },
  {
   "cell_type": "code",
   "execution_count": 19,
   "id": "957c0ffa-fe1b-4363-8699-d913b5daaa33",
   "metadata": {},
   "outputs": [
    {
     "data": {
      "text/plain": [
       "[(2, 16),\n",
       " (2, 25),\n",
       " (2, 36),\n",
       " (2, 49),\n",
       " (2, 64),\n",
       " (2, 81),\n",
       " (4, 1024),\n",
       " (4, 1089),\n",
       " (4, 1156),\n",
       " (4, 1225),\n",
       " (4, 1296),\n",
       " (4, 1369),\n",
       " (4, 1444),\n",
       " (4, 1521),\n",
       " (4, 1600),\n",
       " (4, 1681),\n",
       " (4, 1764),\n",
       " (4, 1849),\n",
       " (4, 1936),\n",
       " (4, 2025),\n",
       " (4, 2116),\n",
       " (4, 2209),\n",
       " (4, 2304),\n",
       " (4, 2401),\n",
       " (4, 2500)]"
      ]
     },
     "execution_count": 19,
     "metadata": {},
     "output_type": "execute_result"
    }
   ],
   "source": [
    "flipped_pairs = even_digit_pairs.map(lambda x: (x[1], x[0]))\n",
    "flipped_pairs.take(25)"
   ]
  },
  {
   "cell_type": "code",
   "execution_count": 25,
   "id": "ea2f95a1-a230-4017-bff0-5a0e1f77bea6",
   "metadata": {},
   "outputs": [
    {
     "data": {
      "text/plain": [
       "[(2, <pyspark.resultiterable.ResultIterable at 0x23bd812b7c0>),\n",
       " (4, <pyspark.resultiterable.ResultIterable at 0x23bd812bcd0>),\n",
       " (6, <pyspark.resultiterable.ResultIterable at 0x23bd812b520>),\n",
       " (8, <pyspark.resultiterable.ResultIterable at 0x23bd812b910>),\n",
       " (10, <pyspark.resultiterable.ResultIterable at 0x23bd8528ac0>),\n",
       " (12, <pyspark.resultiterable.ResultIterable at 0x23bd85281f0>)]"
      ]
     },
     "execution_count": 25,
     "metadata": {},
     "output_type": "execute_result"
    }
   ],
   "source": [
    "grouped = flipped_pairs.groupByKey()\n",
    "grouped.take(25)"
   ]
  },
  {
   "cell_type": "code",
   "execution_count": 26,
   "id": "a5411525-20b1-4ad8-ac57-2f48c9eaee0a",
   "metadata": {},
   "outputs": [
    {
     "data": {
      "text/plain": [
       "[(2, [16, 25, 36, 49, 64, 81]),\n",
       " (4,\n",
       "  [1024,\n",
       "   1089,\n",
       "   1156,\n",
       "   1225,\n",
       "   1296,\n",
       "   1369,\n",
       "   1444,\n",
       "   1521,\n",
       "   1600,\n",
       "   1681,\n",
       "   1764,\n",
       "   1849,\n",
       "   1936,\n",
       "   2025,\n",
       "   2116,\n",
       "   2209,\n",
       "   2304,\n",
       "   2401,\n",
       "   2500,\n",
       "   2601,\n",
       "   2704,\n",
       "   2809,\n",
       "   2916,\n",
       "   3025,\n",
       "   3136,\n",
       "   3249,\n",
       "   3364,\n",
       "   3481,\n",
       "   3600,\n",
       "   3721,\n",
       "   3844,\n",
       "   3969,\n",
       "   4096,\n",
       "   4225,\n",
       "   4356,\n",
       "   4489,\n",
       "   4624,\n",
       "   4761,\n",
       "   4900,\n",
       "   5041,\n",
       "   5184,\n",
       "   5329,\n",
       "   5476,\n",
       "   5625,\n",
       "   5776,\n",
       "   5929,\n",
       "   6084,\n",
       "   6241,\n",
       "   6400,\n",
       "   6561,\n",
       "   6724,\n",
       "   6889,\n",
       "   7056,\n",
       "   7225,\n",
       "   7396,\n",
       "   7569,\n",
       "   7744,\n",
       "   7921,\n",
       "   8100,\n",
       "   8281,\n",
       "   8464,\n",
       "   8649,\n",
       "   8836,\n",
       "   9025,\n",
       "   9216,\n",
       "   9409,\n",
       "   9604,\n",
       "   9801])]"
      ]
     },
     "execution_count": 26,
     "metadata": {},
     "output_type": "execute_result"
    }
   ],
   "source": [
    "grouped = grouped.map(lambda x: (x[0], list(x[1])))\n",
    "grouped.take(2)"
   ]
  },
  {
   "cell_type": "code",
   "execution_count": 30,
   "id": "07306842-ef71-43bc-96fa-4b73272b555b",
   "metadata": {},
   "outputs": [
    {
     "data": {
      "text/plain": [
       "[(2, 45.166666666666664),\n",
       " (4, 4675.5),\n",
       " (6, 471838.0),\n",
       " (8, 47204941.666666664),\n",
       " (10, 4720705565.0),\n",
       " (12, 472075391214.1667)]"
      ]
     },
     "execution_count": 30,
     "metadata": {},
     "output_type": "execute_result"
    }
   ],
   "source": [
    "averaged = grouped.map(lambda x: (x[0], sum(x[1]) / len(x[1])))\n",
    "averaged.collect()"
   ]
  },
  {
   "cell_type": "code",
   "execution_count": null,
   "id": "8c548988-2c16-4deb-8ac9-c980496f157d",
   "metadata": {},
   "outputs": [],
   "source": []
  }
 ],
 "metadata": {
  "kernelspec": {
   "display_name": "Python 3",
   "language": "python",
   "name": "python3"
  },
  "language_info": {
   "codemirror_mode": {
    "name": "ipython",
    "version": 3
   },
   "file_extension": ".py",
   "mimetype": "text/x-python",
   "name": "python",
   "nbconvert_exporter": "python",
   "pygments_lexer": "ipython3",
   "version": "3.8.8"
  }
 },
 "nbformat": 4,
 "nbformat_minor": 5
}
